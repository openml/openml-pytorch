{
 "cells": [
  {
   "cell_type": "markdown",
   "metadata": {},
   "source": [
    "# Basic Image classification task"
   ]
  },
  {
   "cell_type": "code",
   "execution_count": 8,
   "metadata": {
    "ExecuteTime": {
     "end_time": "2024-09-23T12:01:33.514283Z",
     "start_time": "2024-09-23T12:01:32.116044Z"
    }
   },
   "outputs": [],
   "source": [
    "# openml imports\n",
    "import openml\n",
    "import openml_pytorch\n",
    "from openml_pytorch.callbacks import TestCallback\n",
    "from openml_pytorch.metrics import accuracy\n",
    "from openml_pytorch.trainer import OpenMLDataModule, OpenMLTrainerModule, convert_to_rgb\n",
    "\n",
    "# pytorch imports\n",
    "from torch.utils.tensorboard.writer import SummaryWriter\n",
    "from torchvision.transforms import Compose, Resize, ToPILImage, ToTensor, Lambda\n",
    "import torchvision\n",
    "\n",
    "# other imports\n",
    "import logging\n",
    "import warnings\n",
    "\n",
    "# set up logging\n",
    "openml.config.logger.setLevel(logging.DEBUG)\n",
    "openml_pytorch.config.logger.setLevel(logging.DEBUG)\n",
    "warnings.simplefilter(action='ignore')"
   ]
  },
  {
   "cell_type": "markdown",
   "metadata": {},
   "source": [
    "## Data"
   ]
  },
  {
   "cell_type": "markdown",
   "metadata": {
    "ExecuteTime": {
     "end_time": "2024-09-23T12:01:39.788930Z",
     "start_time": "2024-09-23T12:01:34.041129Z"
    }
   },
   "source": [
    "### Define image transformations\n"
   ]
  },
  {
   "cell_type": "code",
   "execution_count": 9,
   "metadata": {},
   "outputs": [],
   "source": [
    "\n",
    "transform = Compose(\n",
    "    [\n",
    "        ToPILImage(),  # Convert tensor to PIL Image to ensure PIL Image operations can be applied.\n",
    "        Lambda(convert_to_rgb),  # Convert PIL Image to RGB if it's not already.\n",
    "        Resize((64, 64)),  # Resize the image.\n",
    "        ToTensor(),  # Convert the PIL Image back to a tensor.\n",
    "    ]\n",
    ")\n"
   ]
  },
  {
   "cell_type": "markdown",
   "metadata": {},
   "source": [
    "### Configure the Data Module and Choose a Task\n",
    "- Make sure the data is present in the `file_dir` directory, and the `filename_col` is correctly set along with this column correctly pointing to where your data is stored. \n"
   ]
  },
  {
   "cell_type": "code",
   "execution_count": 10,
   "metadata": {},
   "outputs": [],
   "source": [
    "data_module = OpenMLDataModule(\n",
    "    type_of_data=\"image\",\n",
    "    file_dir=\"datasets\",\n",
    "    filename_col=\"image_path\",\n",
    "    target_mode=\"categorical\",\n",
    "    target_column=\"label\",\n",
    "    batch_size=64,\n",
    "    transform=transform,\n",
    ")\n",
    "\n",
    "# Download the OpenML task for tiniest imagenet\n",
    "task = openml.tasks.get_task(362128)\n"
   ]
  },
  {
   "cell_type": "markdown",
   "metadata": {},
   "source": [
    "## Model"
   ]
  },
  {
   "cell_type": "code",
   "execution_count": 11,
   "metadata": {},
   "outputs": [],
   "source": [
    "model = torchvision.models.resnet18(num_classes=200)"
   ]
  },
  {
   "cell_type": "markdown",
   "metadata": {},
   "source": [
    "## Train your model on the data\n",
    "- Note that by default, OpenML runs a 10 fold cross validation on the data. You cannot change this for now."
   ]
  },
  {
   "cell_type": "code",
   "execution_count": null,
   "metadata": {},
   "outputs": [],
   "source": [
    "\n",
    "\n",
    "trainer = OpenMLTrainerModule(\n",
    "    experiment_name= \"Tiny ImageNet\",\n",
    "    data_module=data_module,\n",
    "    verbose=True,\n",
    "    epoch_count=1,\n",
    "    metrics= [accuracy],\n",
    "    # remove the TestCallback when you are done testing your pipeline. Having it here will make the pipeline run for a very short time.\n",
    "    callbacks=[\n",
    "        TestCallback,\n",
    "    ],\n",
    ")\n",
    "openml_pytorch.config.trainer = trainer\n",
    "run = openml.runs.run_model_on_task(model, task, avoid_duplicate_runs=False)"
   ]
  },
  {
   "cell_type": "markdown",
   "metadata": {},
   "source": [
    "## View information about your run"
   ]
  },
  {
   "cell_type": "markdown",
   "metadata": {},
   "source": [
    "### Learning rate and loss plot"
   ]
  },
  {
   "cell_type": "code",
   "execution_count": null,
   "metadata": {},
   "outputs": [],
   "source": [
    "trainer.plot_loss()"
   ]
  },
  {
   "cell_type": "code",
   "execution_count": null,
   "metadata": {},
   "outputs": [],
   "source": [
    "trainer.plot_lr()"
   ]
  },
  {
   "cell_type": "markdown",
   "metadata": {},
   "source": [
    "### Class labels"
   ]
  },
  {
   "cell_type": "code",
   "execution_count": null,
   "metadata": {},
   "outputs": [],
   "source": [
    "trainer.model_classes"
   ]
  },
  {
   "cell_type": "markdown",
   "metadata": {},
   "source": [
    "## Model Vizualization\n",
    "- Sometimes you may want to visualize the model. You can either use netron or tensorboard for this purpose."
   ]
  },
  {
   "cell_type": "markdown",
   "metadata": {},
   "source": [
    "### Netron"
   ]
  },
  {
   "cell_type": "code",
   "execution_count": null,
   "metadata": {},
   "outputs": [],
   "source": [
    "trainer.export_to_netron()"
   ]
  },
  {
   "cell_type": "markdown",
   "metadata": {},
   "source": [
    "### Tensorboard\n",
    "- By default, openml will log the tensorboard logs in the `tensorboard_logs` directory. You can view the logs by running `tensorboard --logdir tensorboard_logs` in the terminal."
   ]
  },
  {
   "cell_type": "markdown",
   "metadata": {},
   "source": [
    "## Publish your model to OpenML\n",
    "- This is Optional, but publishing your model to OpenML will allow you to track your experiments and compare them with others.\n",
    "- Make sure to set your apikey first.\n",
    "  - You can find your apikey on your OpenML account page."
   ]
  },
  {
   "cell_type": "code",
   "execution_count": null,
   "metadata": {},
   "outputs": [],
   "source": [
    "openml.config.apikey = ''\n",
    "run.publish()"
   ]
  },
  {
   "cell_type": "markdown",
   "metadata": {},
   "source": [
    "# Pretrained Transformer Image Classification Task"
   ]
  },
  {
   "cell_type": "code",
   "execution_count": null,
   "metadata": {},
   "outputs": [],
   "source": [
    "# openml imports\n",
    "import openml\n",
    "import openml_pytorch\n",
    "from openml_pytorch.callbacks import TestCallback\n",
    "from openml_pytorch.metrics import accuracy\n",
    "from openml_pytorch.trainer import OpenMLDataModule, OpenMLTrainerModule, convert_to_rgb\n",
    "\n",
    "# pytorch imports\n",
    "from torch.utils.tensorboard.writer import SummaryWriter\n",
    "from torchvision.transforms import Compose, Resize, ToPILImage, ToTensor, Lambda\n",
    "import torchvision\n",
    "\n",
    "# other imports\n",
    "import logging\n",
    "import warnings\n",
    "\n",
    "# set up logging\n",
    "openml.config.logger.setLevel(logging.DEBUG)\n",
    "openml_pytorch.config.logger.setLevel(logging.DEBUG)\n",
    "warnings.simplefilter(action='ignore')"
   ]
  },
  {
   "cell_type": "markdown",
   "metadata": {},
   "source": [
    "## Data"
   ]
  },
  {
   "cell_type": "markdown",
   "metadata": {},
   "source": [
    "### Define image transformations\n"
   ]
  },
  {
   "cell_type": "code",
   "execution_count": null,
   "metadata": {},
   "outputs": [],
   "source": [
    "\n",
    "transform = Compose(\n",
    "    [\n",
    "        ToPILImage(),  # Convert tensor to PIL Image to ensure PIL Image operations can be applied.\n",
    "        Lambda(convert_to_rgb),  # Convert PIL Image to RGB if it's not already.\n",
    "        Resize((64, 64)),  # Resize the image.\n",
    "        ToTensor(),  # Convert the PIL Image back to a tensor.\n",
    "    ]\n",
    ")\n"
   ]
  },
  {
   "cell_type": "markdown",
   "metadata": {},
   "source": [
    "### Configure the Data Module and Choose a Task\n",
    "- Make sure the data is present in the `file_dir` directory, and the `filename_col` is correctly set along with this column correctly pointing to where your data is stored. \n"
   ]
  },
  {
   "cell_type": "code",
   "execution_count": null,
   "metadata": {},
   "outputs": [],
   "source": [
    "data_module = OpenMLDataModule(\n",
    "    type_of_data=\"image\",\n",
    "    file_dir=\"datasets\",\n",
    "    filename_col=\"image_path\",\n",
    "    target_mode=\"categorical\",\n",
    "    target_column=\"label\",\n",
    "    batch_size=64,\n",
    "    transform=transform,\n",
    ")\n",
    "\n",
    "# Download the OpenML task for tiniest imagenet\n",
    "task = openml.tasks.get_task(362128)\n"
   ]
  },
  {
   "cell_type": "markdown",
   "metadata": {},
   "source": [
    "## Model"
   ]
  },
  {
   "cell_type": "code",
   "execution_count": null,
   "metadata": {},
   "outputs": [],
   "source": [
    "# Example model. You can do better :)\n",
    "import torchvision.models as models\n",
    "import torch.nn as nn\n",
    "\n",
    "# Load the pre-trained model\n",
    "model = models.efficientnet_b0(pretrained=True)\n",
    "\n",
    "# Modify the last fully connected layer to the required number of classes\n",
    "num_classes = 200\n",
    "in_features = model.classifier[-1].in_features\n",
    "model.classifier = nn.Sequential(\n",
    "    nn.Dropout(p=0.2, inplace=True),\n",
    "    nn.Linear(in_features, num_classes),\n",
    ")\n",
    "\n",
    "# Optional: If you're fine-tuning, you may want to freeze the pre-trained layers\n",
    "# for param in model.parameters():\n",
    "#     param.requires_grad = False\n",
    "\n",
    "# # If you want to train the last layer only (the newly added layer)\n",
    "# for param in model.fc.parameters():\n",
    "#     param.requires_grad = True"
   ]
  },
  {
   "cell_type": "markdown",
   "metadata": {},
   "source": [
    "## Train your model on the data\n",
    "- Note that by default, OpenML runs a 10 fold cross validation on the data. You cannot change this for now."
   ]
  },
  {
   "cell_type": "code",
   "execution_count": null,
   "metadata": {},
   "outputs": [],
   "source": [
    "\n",
    "\n",
    "trainer = OpenMLTrainerModule(\n",
    "    experiment_name= \"Tiny ImageNet\",\n",
    "    data_module=data_module,\n",
    "    verbose=True,\n",
    "    epoch_count=1,\n",
    "    metrics= [accuracy],\n",
    "    # remove the TestCallback when you are done testing your pipeline. Having it here will make the pipeline run for a very short time.\n",
    "    callbacks=[\n",
    "        TestCallback,\n",
    "    ],\n",
    ")\n",
    "openml_pytorch.config.trainer = trainer\n",
    "run = openml.runs.run_model_on_task(model, task, avoid_duplicate_runs=False)"
   ]
  },
  {
   "cell_type": "markdown",
   "metadata": {},
   "source": [
    "## View information about your run"
   ]
  },
  {
   "cell_type": "markdown",
   "metadata": {},
   "source": [
    "### Learning rate and loss plot"
   ]
  },
  {
   "cell_type": "code",
   "execution_count": null,
   "metadata": {},
   "outputs": [],
   "source": [
    "trainer.plot_loss()"
   ]
  },
  {
   "cell_type": "code",
   "execution_count": null,
   "metadata": {},
   "outputs": [],
   "source": [
    "trainer.plot_lr()"
   ]
  },
  {
   "cell_type": "markdown",
   "metadata": {},
   "source": [
    "### Class labels"
   ]
  },
  {
   "cell_type": "code",
   "execution_count": null,
   "metadata": {},
   "outputs": [],
   "source": [
    "trainer.model_classes"
   ]
  },
  {
   "cell_type": "markdown",
   "metadata": {},
   "source": [
    "## Model Vizualization\n",
    "- Sometimes you may want to visualize the model. You can either use netron or tensorboard for this purpose."
   ]
  },
  {
   "cell_type": "markdown",
   "metadata": {},
   "source": [
    "### Netron"
   ]
  },
  {
   "cell_type": "code",
   "execution_count": null,
   "metadata": {},
   "outputs": [],
   "source": [
    "trainer.export_to_netron()"
   ]
  },
  {
   "cell_type": "markdown",
   "metadata": {},
   "source": [
    "### Tensorboard\n",
    "- By default, openml will log the tensorboard logs in the `tensorboard_logs` directory. You can view the logs by running `tensorboard --logdir tensorboard_logs` in the terminal."
   ]
  },
  {
   "cell_type": "markdown",
   "metadata": {},
   "source": [
    "## Publish your model to OpenML\n",
    "- This is Optional, but publishing your model to OpenML will allow you to track your experiments and compare them with others.\n",
    "- Make sure to set your apikey first.\n",
    "  - You can find your apikey on your OpenML account page."
   ]
  },
  {
   "cell_type": "code",
   "execution_count": null,
   "metadata": {},
   "outputs": [],
   "source": [
    "openml.config.apikey = ''\n",
    "run.publish()"
   ]
  },
  {
   "cell_type": "markdown",
   "metadata": {},
   "source": [
    "# Choose a customer Optimizer\n",
    "- If you want to use a custom optimizer, you can do so by defining the optimizer in the `optimizer` variable."
   ]
  },
  {
   "cell_type": "code",
   "execution_count": 1,
   "metadata": {},
   "outputs": [],
   "source": [
    "# openml imports\n",
    "import openml\n",
    "import openml_pytorch\n",
    "from openml_pytorch.callbacks import TestCallback\n",
    "from openml_pytorch.metrics import accuracy\n",
    "from openml_pytorch.trainer import OpenMLDataModule, OpenMLTrainerModule, convert_to_rgb\n",
    "\n",
    "# pytorch imports\n",
    "from torch.utils.tensorboard.writer import SummaryWriter\n",
    "from torchvision.transforms import Compose, Resize, ToPILImage, ToTensor, Lambda\n",
    "import torchvision\n",
    "\n",
    "# other imports\n",
    "import logging\n",
    "import warnings\n",
    "\n",
    "# set up logging\n",
    "openml.config.logger.setLevel(logging.DEBUG)\n",
    "openml_pytorch.config.logger.setLevel(logging.DEBUG)\n",
    "warnings.simplefilter(action='ignore')"
   ]
  },
  {
   "cell_type": "markdown",
   "metadata": {},
   "source": [
    "## Data"
   ]
  },
  {
   "cell_type": "markdown",
   "metadata": {},
   "source": [
    "### Define image transformations\n"
   ]
  },
  {
   "cell_type": "code",
   "execution_count": 2,
   "metadata": {},
   "outputs": [],
   "source": [
    "\n",
    "transform = Compose(\n",
    "    [\n",
    "        ToPILImage(),  # Convert tensor to PIL Image to ensure PIL Image operations can be applied.\n",
    "        Lambda(convert_to_rgb),  # Convert PIL Image to RGB if it's not already.\n",
    "        Resize((64, 64)),  # Resize the image.\n",
    "        ToTensor(),  # Convert the PIL Image back to a tensor.\n",
    "    ]\n",
    ")\n"
   ]
  },
  {
   "cell_type": "markdown",
   "metadata": {},
   "source": [
    "### Configure the Data Module and Choose a Task\n",
    "- Make sure the data is present in the `file_dir` directory, and the `filename_col` is correctly set along with this column correctly pointing to where your data is stored. \n"
   ]
  },
  {
   "cell_type": "code",
   "execution_count": 3,
   "metadata": {},
   "outputs": [],
   "source": [
    "data_module = OpenMLDataModule(\n",
    "    type_of_data=\"image\",\n",
    "    file_dir=\"datasets\",\n",
    "    filename_col=\"image_path\",\n",
    "    target_mode=\"categorical\",\n",
    "    target_column=\"label\",\n",
    "    batch_size=64,\n",
    "    transform=transform,\n",
    ")\n",
    "\n",
    "# Download the OpenML task for tiniest imagenet\n",
    "task = openml.tasks.get_task(362128)\n"
   ]
  },
  {
   "cell_type": "markdown",
   "metadata": {},
   "source": [
    "## Model"
   ]
  },
  {
   "cell_type": "code",
   "execution_count": 4,
   "metadata": {},
   "outputs": [],
   "source": [
    "model = torchvision.models.resnet18(num_classes=200)"
   ]
  },
  {
   "cell_type": "markdown",
   "metadata": {},
   "source": [
    "## Train your model on the data\n",
    "- Choose a custom optimizer by defining the optimizer variable.\n",
    "- Note that by default, OpenML runs a 10 fold cross validation on the data. You cannot change this for now."
   ]
  },
  {
   "cell_type": "code",
   "execution_count": 5,
   "metadata": {},
   "outputs": [],
   "source": [
    "import torch\n",
    "from torch.optim import Adam, Optimizer\n",
    "from openml_pytorch.trainer import OpenMLTask\n",
    "\n",
    "def custom_optimizer_gen(model: torch.nn.Module, task: OpenMLTask) -> Optimizer:\n",
    "    # replace the optimizer with your own\n",
    "    return Adam(model.fc.parameters())\n"
   ]
  },
  {
   "cell_type": "code",
   "execution_count": 6,
   "metadata": {},
   "outputs": [
    {
     "name": "stderr",
     "output_type": "stream",
     "text": [
      "                                              \r"
     ]
    },
    {
     "name": "stdout",
     "output_type": "stream",
     "text": [
      "Loss tensor(5.5502, device='mps:0', grad_fn=<NllLossBackward0>)\n"
     ]
    },
    {
     "name": "stderr",
     "output_type": "stream",
     "text": [
      "                                              \r"
     ]
    },
    {
     "name": "stdout",
     "output_type": "stream",
     "text": [
      "Loss tensor(5.4123, device='mps:0', grad_fn=<NllLossBackward0>)\n"
     ]
    },
    {
     "name": "stderr",
     "output_type": "stream",
     "text": [
      "                                              \r"
     ]
    },
    {
     "name": "stdout",
     "output_type": "stream",
     "text": [
      "Loss tensor(5.3718, device='mps:0', grad_fn=<NllLossBackward0>)\n"
     ]
    },
    {
     "name": "stderr",
     "output_type": "stream",
     "text": [
      "                                              \r"
     ]
    },
    {
     "name": "stdout",
     "output_type": "stream",
     "text": [
      "Loss tensor(5.4250, device='mps:0', grad_fn=<NllLossBackward0>)\n"
     ]
    },
    {
     "name": "stderr",
     "output_type": "stream",
     "text": [
      "                                              \r"
     ]
    },
    {
     "name": "stdout",
     "output_type": "stream",
     "text": [
      "Loss tensor(5.4797, device='mps:0', grad_fn=<NllLossBackward0>)\n"
     ]
    },
    {
     "name": "stderr",
     "output_type": "stream",
     "text": [
      "                                              \r"
     ]
    },
    {
     "name": "stdout",
     "output_type": "stream",
     "text": [
      "Loss tensor(5.3783, device='mps:0', grad_fn=<NllLossBackward0>)\n"
     ]
    },
    {
     "name": "stderr",
     "output_type": "stream",
     "text": [
      "                                              \r"
     ]
    },
    {
     "name": "stdout",
     "output_type": "stream",
     "text": [
      "Loss tensor(5.3846, device='mps:0', grad_fn=<NllLossBackward0>)\n"
     ]
    },
    {
     "name": "stderr",
     "output_type": "stream",
     "text": [
      "                                              \r"
     ]
    },
    {
     "name": "stdout",
     "output_type": "stream",
     "text": [
      "Loss tensor(5.4164, device='mps:0', grad_fn=<NllLossBackward0>)\n"
     ]
    },
    {
     "name": "stderr",
     "output_type": "stream",
     "text": [
      "                                              \r"
     ]
    },
    {
     "name": "stdout",
     "output_type": "stream",
     "text": [
      "Loss tensor(5.3684, device='mps:0', grad_fn=<NllLossBackward0>)\n"
     ]
    },
    {
     "name": "stderr",
     "output_type": "stream",
     "text": [
      "                                              \r"
     ]
    },
    {
     "name": "stdout",
     "output_type": "stream",
     "text": [
      "Loss tensor(5.3467, device='mps:0', grad_fn=<NllLossBackward0>)\n"
     ]
    }
   ],
   "source": [
    "trainer = OpenMLTrainerModule(\n",
    "    experiment_name= \"Tiny ImageNet\",\n",
    "    data_module=data_module,\n",
    "    verbose=True,\n",
    "    epoch_count=1,\n",
    "    metrics= [accuracy],\n",
    "    # remove the TestCallback when you are done testing your pipeline. Having it here will make the pipeline run for a very short time.\n",
    "    callbacks=[\n",
    "        TestCallback,\n",
    "    ],\n",
    "    optimizer = custom_optimizer_gen,\n",
    ")\n",
    "openml_pytorch.config.trainer = trainer\n",
    "run = openml.runs.run_model_on_task(model, task, avoid_duplicate_runs=False)"
   ]
  },
  {
   "cell_type": "markdown",
   "metadata": {},
   "source": [
    "## View information about your run"
   ]
  },
  {
   "cell_type": "markdown",
   "metadata": {},
   "source": [
    "### Learning rate and loss plot"
   ]
  },
  {
   "cell_type": "code",
   "execution_count": null,
   "metadata": {},
   "outputs": [],
   "source": [
    "trainer.plot_loss()"
   ]
  },
  {
   "cell_type": "code",
   "execution_count": null,
   "metadata": {},
   "outputs": [],
   "source": [
    "trainer.plot_lr()"
   ]
  },
  {
   "cell_type": "markdown",
   "metadata": {},
   "source": [
    "### Class labels"
   ]
  },
  {
   "cell_type": "code",
   "execution_count": null,
   "metadata": {},
   "outputs": [],
   "source": [
    "trainer.model_classes"
   ]
  },
  {
   "cell_type": "markdown",
   "metadata": {},
   "source": [
    "## Model Vizualization\n",
    "- Sometimes you may want to visualize the model. You can either use netron or tensorboard for this purpose."
   ]
  },
  {
   "cell_type": "markdown",
   "metadata": {},
   "source": [
    "### Netron"
   ]
  },
  {
   "cell_type": "code",
   "execution_count": null,
   "metadata": {},
   "outputs": [],
   "source": [
    "trainer.export_to_netron()"
   ]
  },
  {
   "cell_type": "markdown",
   "metadata": {},
   "source": [
    "### Tensorboard\n",
    "- By default, openml will log the tensorboard logs in the `tensorboard_logs` directory. You can view the logs by running `tensorboard --logdir tensorboard_logs` in the terminal."
   ]
  },
  {
   "cell_type": "markdown",
   "metadata": {},
   "source": [
    "## Publish your model to OpenML\n",
    "- This is Optional, but publishing your model to OpenML will allow you to track your experiments and compare them with others.\n",
    "- Make sure to set your apikey first.\n",
    "  - You can find your apikey on your OpenML account page."
   ]
  },
  {
   "cell_type": "code",
   "execution_count": null,
   "metadata": {},
   "outputs": [],
   "source": [
    "openml.config.apikey = ''\n",
    "run.publish()"
   ]
  },
  {
   "cell_type": "code",
   "execution_count": null,
   "metadata": {},
   "outputs": [],
   "source": []
  },
  {
   "cell_type": "markdown",
   "metadata": {},
   "source": [
    "# Sequential Classification Task\n",
    "- Sequential classification of a tabular MNIST dataset (Task 3573) using a simple neural network."
   ]
  },
  {
   "cell_type": "code",
   "execution_count": 4,
   "metadata": {},
   "outputs": [],
   "source": [
    "# openml imports\n",
    "import openml\n",
    "import openml_pytorch\n",
    "from openml_pytorch.callbacks import TestCallback\n",
    "from openml_pytorch.metrics import accuracy\n",
    "from openml_pytorch.trainer import OpenMLDataModule, OpenMLTrainerModule, convert_to_rgb\n",
    "\n",
    "# pytorch imports\n",
    "import torch\n",
    "\n",
    "# other imports\n",
    "import logging\n",
    "import warnings\n",
    "\n",
    "# set up logging\n",
    "openml.config.logger.setLevel(logging.DEBUG)\n",
    "openml_pytorch.config.logger.setLevel(logging.DEBUG)\n",
    "warnings.simplefilter(action='ignore')"
   ]
  },
  {
   "cell_type": "markdown",
   "metadata": {},
   "source": [
    "## Data"
   ]
  },
  {
   "cell_type": "markdown",
   "metadata": {},
   "source": [
    "### Configure the Data Module and Choose a Task\n",
    "- Make sure the data is present in the `file_dir` directory, and the `filename_col` is correctly set along with this column correctly pointing to where your data is stored. \n"
   ]
  },
  {
   "cell_type": "code",
   "execution_count": 5,
   "metadata": {},
   "outputs": [],
   "source": [
    "data_module = OpenMLDataModule(\n",
    "    type_of_data=\"dataframe\",\n",
    "    filename_col=\"class\",\n",
    "    target_mode=\"categorical\",\n",
    ")\n",
    "\n",
    "# Download the OpenML task for the mnist 784 dataset.\n",
    "task = openml.tasks.get_task(3573)"
   ]
  },
  {
   "cell_type": "markdown",
   "metadata": {},
   "source": [
    "## Model"
   ]
  },
  {
   "cell_type": "code",
   "execution_count": 6,
   "metadata": {},
   "outputs": [],
   "source": [
    "\n",
    "############################################################################\n",
    "# Define a sequential network that does the initial image reshaping\n",
    "# and normalization model.\n",
    "processing_net = torch.nn.Sequential(\n",
    "    openml_pytorch.layers.Functional(function=torch.Tensor.reshape,\n",
    "                                                shape=(-1, 1, 28, 28)),\n",
    "    torch.nn.BatchNorm2d(num_features=1)\n",
    ")\n",
    "############################################################################\n",
    "\n",
    "############################################################################\n",
    "# Define a sequential network that does the extracts the features from the\n",
    "# image.\n",
    "features_net = torch.nn.Sequential(\n",
    "    torch.nn.Conv2d(in_channels=1, out_channels=32, kernel_size=5),\n",
    "    torch.nn.LeakyReLU(),\n",
    "    torch.nn.MaxPool2d(kernel_size=2),\n",
    "    torch.nn.Conv2d(in_channels=32, out_channels=64, kernel_size=5),\n",
    "    torch.nn.LeakyReLU(),\n",
    "    torch.nn.MaxPool2d(kernel_size=2),\n",
    ")\n",
    "############################################################################\n",
    "\n",
    "############################################################################\n",
    "# Define a sequential network that flattens the features and compiles the\n",
    "# results into probabilities for each digit.\n",
    "results_net = torch.nn.Sequential(\n",
    "    openml_pytorch.layers.Functional(function=torch.Tensor.reshape,\n",
    "                                                shape=(-1, 4 * 4 * 64)),\n",
    "    torch.nn.Linear(in_features=4 * 4 * 64, out_features=256),\n",
    "    torch.nn.LeakyReLU(),\n",
    "    torch.nn.Dropout(),\n",
    "    torch.nn.Linear(in_features=256, out_features=10),\n",
    ")\n",
    "############################################################################\n",
    "# openml.config.apikey = 'key'\n",
    "\n",
    "############################################################################\n",
    "# The main network, composed of the above specified networks.\n",
    "model = torch.nn.Sequential(\n",
    "    processing_net,\n",
    "    features_net,\n",
    "    results_net\n",
    ")\n",
    "############################################################################\n"
   ]
  },
  {
   "cell_type": "markdown",
   "metadata": {},
   "source": [
    "## Train your model on the data\n",
    "- Note that by default, OpenML runs a 10 fold cross validation on the data. You cannot change this for now."
   ]
  },
  {
   "cell_type": "code",
   "execution_count": 7,
   "metadata": {},
   "outputs": [
    {
     "name": "stderr",
     "output_type": "stream",
     "text": [
      "                                               \r"
     ]
    },
    {
     "name": "stdout",
     "output_type": "stream",
     "text": [
      "Loss tensor(2.2972, device='mps:0', grad_fn=<NllLossBackward0>)\n"
     ]
    },
    {
     "name": "stderr",
     "output_type": "stream",
     "text": [
      "                                       \r"
     ]
    },
    {
     "name": "stdout",
     "output_type": "stream",
     "text": [
      "Loss tensor(2.2873, device='mps:0', grad_fn=<NllLossBackward0>)\n"
     ]
    },
    {
     "name": "stderr",
     "output_type": "stream",
     "text": [
      "                                       \r"
     ]
    },
    {
     "name": "stdout",
     "output_type": "stream",
     "text": [
      "Loss tensor(2.2803, device='mps:0', grad_fn=<NllLossBackward0>)\n"
     ]
    },
    {
     "name": "stderr",
     "output_type": "stream",
     "text": [
      "                                       \r"
     ]
    },
    {
     "name": "stdout",
     "output_type": "stream",
     "text": [
      "Loss tensor(2.2802, device='mps:0', grad_fn=<NllLossBackward0>)\n"
     ]
    },
    {
     "name": "stderr",
     "output_type": "stream",
     "text": [
      "                                       \r"
     ]
    },
    {
     "name": "stdout",
     "output_type": "stream",
     "text": [
      "Loss tensor(2.2713, device='mps:0', grad_fn=<NllLossBackward0>)\n"
     ]
    },
    {
     "name": "stderr",
     "output_type": "stream",
     "text": [
      "                                       \r"
     ]
    },
    {
     "name": "stdout",
     "output_type": "stream",
     "text": [
      "Loss tensor(2.2780, device='mps:0', grad_fn=<NllLossBackward0>)\n"
     ]
    },
    {
     "name": "stderr",
     "output_type": "stream",
     "text": [
      "                                       \r"
     ]
    },
    {
     "name": "stdout",
     "output_type": "stream",
     "text": [
      "Loss tensor(2.2837, device='mps:0', grad_fn=<NllLossBackward0>)\n"
     ]
    },
    {
     "name": "stderr",
     "output_type": "stream",
     "text": [
      "                                       \r"
     ]
    },
    {
     "name": "stdout",
     "output_type": "stream",
     "text": [
      "Loss tensor(2.2780, device='mps:0', grad_fn=<NllLossBackward0>)\n"
     ]
    },
    {
     "name": "stderr",
     "output_type": "stream",
     "text": [
      "                                       \r"
     ]
    },
    {
     "name": "stdout",
     "output_type": "stream",
     "text": [
      "Loss tensor(2.2658, device='mps:0', grad_fn=<NllLossBackward0>)\n"
     ]
    },
    {
     "name": "stderr",
     "output_type": "stream",
     "text": [
      "                                       \r"
     ]
    },
    {
     "name": "stdout",
     "output_type": "stream",
     "text": [
      "Loss tensor(2.3032, device='mps:0', grad_fn=<NllLossBackward0>)\n"
     ]
    }
   ],
   "source": [
    "trainer = OpenMLTrainerModule(\n",
    "    experiment_name= \"MNIST\",\n",
    "    data_module=data_module,\n",
    "    verbose=True,\n",
    "    epoch_count=1,\n",
    "    metrics= [accuracy],\n",
    "    # remove the TestCallback when you are done testing your pipeline. Having it here will make the pipeline run for a very short time.\n",
    "    callbacks=[\n",
    "        TestCallback,\n",
    "    ],\n",
    ")\n",
    "openml_pytorch.config.trainer = trainer\n",
    "run = openml.runs.run_model_on_task(model, task, avoid_duplicate_runs=False)"
   ]
  },
  {
   "cell_type": "markdown",
   "metadata": {},
   "source": [
    "## View information about your run"
   ]
  },
  {
   "cell_type": "markdown",
   "metadata": {},
   "source": [
    "### Learning rate and loss plot"
   ]
  },
  {
   "cell_type": "code",
   "execution_count": 14,
   "metadata": {},
   "outputs": [
    {
     "data": {
      "text/plain": [
       "[<matplotlib.lines.Line2D at 0x169421b10>]"
      ]
     },
     "execution_count": 14,
     "metadata": {},
     "output_type": "execute_result"
    },
    {
     "data": {
      "image/png": "[encoded data removed]",
      "text/plain": [
       "<Figure size 640x480 with 1 Axes>"
      ]
     },
     "metadata": {},
     "output_type": "display_data"
    }
   ],
   "source": [
    "trainer.plot_loss()"
   ]
  },
  {
   "cell_type": "code",
   "execution_count": 15,
   "metadata": {},
   "outputs": [
    {
     "data": {
      "text/plain": [
       "[<matplotlib.lines.Line2D at 0x3b1898b90>]"
      ]
     },
     "execution_count": 15,
     "metadata": {},
     "output_type": "execute_result"
    },
    {
     "data": {
      "image/png": "[encoded data removed]",
      "text/plain": [
       "<Figure size 640x480 with 1 Axes>"
      ]
     },
     "metadata": {},
     "output_type": "display_data"
    }
   ],
   "source": [
    "trainer.plot_lr()"
   ]
  },
  {
   "cell_type": "markdown",
   "metadata": {},
   "source": [
    "### Class labels"
   ]
  },
  {
   "cell_type": "code",
   "execution_count": 16,
   "metadata": {},
   "outputs": [
    {
     "data": {
      "text/plain": [
       "array(['0', '1', '2', '3', '4', '5', '6', '7', '8', '9'], dtype=object)"
      ]
     },
     "execution_count": 16,
     "metadata": {},
     "output_type": "execute_result"
    }
   ],
   "source": [
    "trainer.model_classes"
   ]
  },
  {
   "cell_type": "markdown",
   "metadata": {},
   "source": [
    "## Model Vizualization\n",
    "- Sometimes you may want to visualize the model. You can either use netron or tensorboard for this purpose."
   ]
  },
  {
   "cell_type": "markdown",
   "metadata": {},
   "source": [
    "### Netron"
   ]
  },
  {
   "cell_type": "code",
   "execution_count": null,
   "metadata": {},
   "outputs": [],
   "source": [
    "trainer.export_to_netron()"
   ]
  },
  {
   "cell_type": "markdown",
   "metadata": {},
   "source": [
    "### Tensorboard\n",
    "- By default, openml will log the tensorboard logs in the `tensorboard_logs` directory. You can view the logs by running `tensorboard --logdir tensorboard_logs` in the terminal."
   ]
  },
  {
   "cell_type": "markdown",
   "metadata": {},
   "source": [
    "## Publish your model to OpenML\n",
    "- This is Optional, but publishing your model to OpenML will allow you to track your experiments and compare them with others.\n",
    "- Make sure to set your apikey first.\n",
    "  - You can find your apikey on your OpenML account page."
   ]
  },
  {
   "cell_type": "code",
   "execution_count": null,
   "metadata": {},
   "outputs": [],
   "source": [
    "openml.config.apikey = ''\n",
    "run.publish()"
   ]
  },
  {
   "cell_type": "code",
   "execution_count": null,
   "metadata": {},
   "outputs": [],
   "source": []
  },
  {
   "cell_type": "markdown",
   "metadata": {},
   "source": [
    "# Tabular classification\n",
    "- Supervised credit-g classification"
   ]
  },
  {
   "cell_type": "code",
   "execution_count": 8,
   "metadata": {},
   "outputs": [],
   "source": [
    "# openml imports\n",
    "import openml\n",
    "import openml_pytorch\n",
    "from openml_pytorch.callbacks import TestCallback\n",
    "from openml_pytorch.metrics import accuracy\n",
    "from openml_pytorch.trainer import OpenMLDataModule, OpenMLTrainerModule, convert_to_rgb\n",
    "\n",
    "# pytorch imports\n",
    "import torch\n",
    "\n",
    "# other imports\n",
    "import logging\n",
    "import warnings\n",
    "\n",
    "# set up logging\n",
    "openml.config.logger.setLevel(logging.DEBUG)\n",
    "openml_pytorch.config.logger.setLevel(logging.DEBUG)\n",
    "warnings.simplefilter(action='ignore')"
   ]
  },
  {
   "cell_type": "markdown",
   "metadata": {},
   "source": [
    "## Data"
   ]
  },
  {
   "cell_type": "markdown",
   "metadata": {},
   "source": [
    "### Define image transformations\n"
   ]
  },
  {
   "cell_type": "markdown",
   "metadata": {},
   "source": [
    "### Configure the Data Module and Choose a Task\n",
    "- Make sure the data is present in the `file_dir` directory, and the `filename_col` is correctly set along with this column correctly pointing to where your data is stored. \n"
   ]
  },
  {
   "cell_type": "code",
   "execution_count": null,
   "metadata": {},
   "outputs": [],
   "source": [
    "data_module = OpenMLDataModule(\n",
    "    type_of_data=\"dataframe\",\n",
    "    target_column=\"class\",\n",
    "    target_mode=\"categorical\",\n",
    ")\n",
    "\n",
    "# supervised credit-g classification\n",
    "task = openml.tasks.get_task(31)\n"
   ]
  },
  {
   "cell_type": "markdown",
   "metadata": {},
   "source": [
    "## Model"
   ]
  },
  {
   "cell_type": "code",
   "execution_count": null,
   "metadata": {},
   "outputs": [],
   "source": [
    "class TabularClassificationmodel(torch.nn.Module):\n",
    "    def __init__(self, input_size, output_size):\n",
    "        super(TabularClassificationmodel, self).__init__()\n",
    "        self.fc1 = torch.nn.Linear(input_size, 128)\n",
    "        self.fc2 = torch.nn.Linear(128, 64)\n",
    "        self.fc3 = torch.nn.Linear(64, output_size)\n",
    "        self.relu = torch.nn.ReLU()\n",
    "        self.softmax = torch.nn.Softmax(dim=1)\n",
    "\n",
    "    def forward(self, x):\n",
    "        x = self.fc1(x)\n",
    "        x = self.relu(x)\n",
    "        x = self.fc2(x)\n",
    "        x = self.relu(x)\n",
    "        x = self.fc3(x)\n",
    "        x = self.softmax(x)\n",
    "        return x\n",
    "    \n",
    "model = TabularClassificationmodel(20, 2)"
   ]
  },
  {
   "cell_type": "markdown",
   "metadata": {},
   "source": [
    "## Train your model on the data\n",
    "- Note that by default, OpenML runs a 10 fold cross validation on the data. You cannot change this for now."
   ]
  },
  {
   "cell_type": "code",
   "execution_count": 10,
   "metadata": {},
   "outputs": [
    {
     "name": "stderr",
     "output_type": "stream",
     "text": [
      "                                       \r"
     ]
    },
    {
     "name": "stdout",
     "output_type": "stream",
     "text": [
      "Loss tensor(2.3005, device='mps:0', grad_fn=<NllLossBackward0>)\n"
     ]
    },
    {
     "name": "stderr",
     "output_type": "stream",
     "text": [
      "                                       \r"
     ]
    },
    {
     "name": "stdout",
     "output_type": "stream",
     "text": [
      "Loss tensor(2.2868, device='mps:0', grad_fn=<NllLossBackward0>)\n"
     ]
    },
    {
     "name": "stderr",
     "output_type": "stream",
     "text": [
      "                                       \r"
     ]
    },
    {
     "name": "stdout",
     "output_type": "stream",
     "text": [
      "Loss tensor(2.2871, device='mps:0', grad_fn=<NllLossBackward0>)\n"
     ]
    },
    {
     "name": "stderr",
     "output_type": "stream",
     "text": [
      "                                       \r"
     ]
    },
    {
     "name": "stdout",
     "output_type": "stream",
     "text": [
      "Loss tensor(2.2947, device='mps:0', grad_fn=<NllLossBackward0>)\n"
     ]
    },
    {
     "name": "stderr",
     "output_type": "stream",
     "text": [
      "                                       \r"
     ]
    },
    {
     "name": "stdout",
     "output_type": "stream",
     "text": [
      "Loss tensor(2.2941, device='mps:0', grad_fn=<NllLossBackward0>)\n"
     ]
    },
    {
     "name": "stderr",
     "output_type": "stream",
     "text": [
      "                                       \r"
     ]
    },
    {
     "name": "stdout",
     "output_type": "stream",
     "text": [
      "Loss tensor(2.2881, device='mps:0', grad_fn=<NllLossBackward0>)\n"
     ]
    },
    {
     "name": "stderr",
     "output_type": "stream",
     "text": [
      "                                       \r"
     ]
    },
    {
     "name": "stdout",
     "output_type": "stream",
     "text": [
      "Loss tensor(2.2707, device='mps:0', grad_fn=<NllLossBackward0>)\n"
     ]
    },
    {
     "name": "stderr",
     "output_type": "stream",
     "text": [
      "                                       \r"
     ]
    },
    {
     "name": "stdout",
     "output_type": "stream",
     "text": [
      "Loss tensor(2.2879, device='mps:0', grad_fn=<NllLossBackward0>)\n"
     ]
    },
    {
     "name": "stderr",
     "output_type": "stream",
     "text": [
      "                                       \r"
     ]
    },
    {
     "name": "stdout",
     "output_type": "stream",
     "text": [
      "Loss tensor(2.2787, device='mps:0', grad_fn=<NllLossBackward0>)\n"
     ]
    },
    {
     "name": "stderr",
     "output_type": "stream",
     "text": [
      "                                       \r"
     ]
    },
    {
     "name": "stdout",
     "output_type": "stream",
     "text": [
      "Loss tensor(2.2607, device='mps:0', grad_fn=<NllLossBackward0>)\n"
     ]
    }
   ],
   "source": [
    "\n",
    "\n",
    "trainer = OpenMLTrainerModule(\n",
    "    experiment_name= \"Credit-G\",\n",
    "    data_module=data_module,\n",
    "    verbose=True,\n",
    "    epoch_count=5,\n",
    "    metrics= [accuracy],\n",
    "    # remove the TestCallback when you are done testing your pipeline. Having it here will make the pipeline run for a very short time.\n",
    "    callbacks=[\n",
    "        TestCallback,\n",
    "    ],\n",
    ")\n",
    "openml_pytorch.config.trainer = trainer\n",
    "run = openml.runs.run_model_on_task(model, task, avoid_duplicate_runs=False)"
   ]
  },
  {
   "cell_type": "markdown",
   "metadata": {},
   "source": [
    "## View information about your run"
   ]
  },
  {
   "cell_type": "markdown",
   "metadata": {},
   "source": [
    "### Learning rate and loss plot"
   ]
  },
  {
   "cell_type": "code",
   "execution_count": 11,
   "metadata": {},
   "outputs": [
    {
     "data": {
      "text/plain": [
       "[<matplotlib.lines.Line2D at 0x325c5eb90>]"
      ]
     },
     "execution_count": 11,
     "metadata": {},
     "output_type": "execute_result"
    },
    {
     "data": {
      "image/png": "[encoded data removed]",
      "text/plain": [
       "<Figure size 640x480 with 1 Axes>"
      ]
     },
     "metadata": {},
     "output_type": "display_data"
    }
   ],
   "source": [
    "trainer.plot_loss()"
   ]
  },
  {
   "cell_type": "code",
   "execution_count": 12,
   "metadata": {},
   "outputs": [
    {
     "data": {
      "text/plain": [
       "[<matplotlib.lines.Line2D at 0x324d57310>]"
      ]
     },
     "execution_count": 12,
     "metadata": {},
     "output_type": "execute_result"
    },
    {
     "data": {
      "image/png": "[encoded data removed]",
      "text/plain": [
       "<Figure size 640x480 with 1 Axes>"
      ]
     },
     "metadata": {},
     "output_type": "display_data"
    }
   ],
   "source": [
    "trainer.plot_lr()"
   ]
  },
  {
   "cell_type": "markdown",
   "metadata": {},
   "source": [
    "### Class labels"
   ]
  },
  {
   "cell_type": "code",
   "execution_count": 13,
   "metadata": {},
   "outputs": [
    {
     "data": {
      "text/plain": [
       "array(['0', '1', '2', '3', '4', '5', '6', '7', '8', '9'], dtype=object)"
      ]
     },
     "execution_count": 13,
     "metadata": {},
     "output_type": "execute_result"
    }
   ],
   "source": [
    "trainer.model_classes"
   ]
  },
  {
   "cell_type": "markdown",
   "metadata": {},
   "source": [
    "## Model Vizualization\n",
    "- Sometimes you may want to visualize the model. You can either use netron or tensorboard for this purpose."
   ]
  },
  {
   "cell_type": "markdown",
   "metadata": {},
   "source": [
    "### Netron"
   ]
  },
  {
   "cell_type": "code",
   "execution_count": null,
   "metadata": {},
   "outputs": [],
   "source": [
    "trainer.export_to_netron()"
   ]
  },
  {
   "cell_type": "markdown",
   "metadata": {},
   "source": [
    "### Tensorboard\n",
    "- By default, openml will log the tensorboard logs in the `tensorboard_logs` directory. You can view the logs by running `tensorboard --logdir tensorboard_logs` in the terminal."
   ]
  },
  {
   "cell_type": "markdown",
   "metadata": {},
   "source": [
    "## Publish your model to OpenML\n",
    "- This is Optional, but publishing your model to OpenML will allow you to track your experiments and compare them with others.\n",
    "- Make sure to set your apikey first.\n",
    "  - You can find your apikey on your OpenML account page."
   ]
  },
  {
   "cell_type": "code",
   "execution_count": null,
   "metadata": {},
   "outputs": [],
   "source": [
    "openml.config.apikey = ''\n",
    "run.publish()"
   ]
  },
  {
   "cell_type": "code",
   "execution_count": null,
   "metadata": {},
   "outputs": [],
   "source": []
  }
 ],
 "metadata": {
  "kernelspec": {
   "display_name": "openmlpytorch",
   "language": "python",
   "name": "python3"
  },
  "language_info": {
   "codemirror_mode": {
    "name": "ipython",
    "version": 3
   },
   "file_extension": ".py",
   "mimetype": "text/x-python",
   "name": "python",
   "nbconvert_exporter": "python",
   "pygments_lexer": "ipython3",
   "version": "3.11.9"
  }
 },
 "nbformat": 4,
 "nbformat_minor": 2
}
