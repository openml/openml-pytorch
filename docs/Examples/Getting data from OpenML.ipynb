{
 "cells": [
  {
   "cell_type": "markdown",
   "metadata": {},
   "source": [
    "## Getting Data from OpenML ... and then using your own training pipeline\n",
    "- Just want the data and don't want to deal with anything else?\n",
    "- Have some complicated idea you want to try? Don't want to be limited by this API? No problem! \n",
    "- You can use your own training pipeline and still use data from OpenML ... but, you cannot upload your results back to OpenML this way as of now. ):"
   ]
  },
  {
   "cell_type": "code",
   "execution_count": null,
   "metadata": {},
   "outputs": [],
   "source": [
    "# import libraries\n",
    "import openml\n",
    "import torch\n",
    "import numpy as np\n",
    "from sklearn.model_selection import train_test_split\n",
    "from typing import Any\n",
    "from tqdm import tqdm\n",
    "\n",
    "import openml_pytorch as op"
   ]
  },
  {
   "cell_type": "markdown",
   "metadata": {},
   "source": [
    "# Get data and create dataloaders\n",
    "- !!!! This is the ONLY required step. Everything else is completely up to you. \n",
    "- You might be wondering what the GenericDataset is. It is just a simple dataset class\n",
    "```python\n",
    "import torch\n",
    "class GenericDataset(torch.utils.data.Dataset):\n",
    "    \"\"\"\n",
    "    Generic dataset that takes X,y as input and returns them as tensors\"\"\"\n",
    "\n",
    "    def __init__(self, X, y):\n",
    "        self.X = torch.tensor(X, dtype=torch.float32)  # Convert to tensors\n",
    "        self.y = torch.tensor(y, dtype=torch.long)  # Ensure labels are LongTensor\n",
    "\n",
    "    def __len__(self):\n",
    "        return len(self.X)\n",
    "\n",
    "    def __getitem__(self, idx):\n",
    "        return self.X[idx], self.y[idx]\n",
    "```"
   ]
  },
  {
   "cell_type": "code",
   "execution_count": null,
   "metadata": {},
   "outputs": [],
   "source": [
    "\n",
    "# Get dataset by ID\n",
    "dataset = openml.datasets.get_dataset(20)\n",
    "\n",
    "# Get the X, y data\n",
    "X, y, _, _ = dataset.get_data(target=dataset.default_target_attribute)\n",
    "X = X.to_numpy(dtype=np.float32)  # Ensure X is a NumPy array of float32\n",
    "y = y.to_numpy(dtype=np.int64)    # Ensure y is a NumPy array of int64 (for classification)\n",
    "\n",
    "# Train-test split\n",
    "X_train, X_test, y_train, y_test = train_test_split(X, y, random_state=1, stratify=y)\n",
    "\n",
    "# Dataloaders\n",
    "ds_train = op.GenericDataset(X_train, y_train)\n",
    "ds_test = op.GenericDataset(X_test, y_test)\n",
    "dataloader_train = torch.utils.data.DataLoader(ds_train, batch_size=64, shuffle=True)\n",
    "dataloader_test = torch.utils.data.DataLoader(ds_test, batch_size=64, shuffle=False)\n"
   ]
  },
  {
   "cell_type": "markdown",
   "metadata": {},
   "source": [
    "# Choose your model"
   ]
  },
  {
   "cell_type": "code",
   "execution_count": null,
   "metadata": {},
   "outputs": [],
   "source": [
    "# Model Definition\n",
    "class TabularClassificationModel(torch.nn.Module):\n",
    "    def __init__(self, input_size, output_size):\n",
    "        super(TabularClassificationModel, self).__init__()\n",
    "        self.fc1 = torch.nn.Linear(input_size, 128)\n",
    "        self.fc2 = torch.nn.Linear(128, 64)\n",
    "        self.fc3 = torch.nn.Linear(64, output_size)\n",
    "        self.relu = torch.nn.ReLU()\n",
    "        self.softmax = torch.nn.Softmax(dim=1)\n",
    "\n",
    "    def forward(self, x):\n",
    "        x = self.fc1(x)\n",
    "        x = self.relu(x)\n",
    "        x = self.fc2(x)\n",
    "        x = self.relu(x)\n",
    "        x = self.fc3(x)\n",
    "        x = self.softmax(x)\n",
    "        return x\n"
   ]
  },
  {
   "cell_type": "markdown",
   "metadata": {},
   "source": [
    "# Define your own training pipeline"
   ]
  },
  {
   "cell_type": "code",
   "execution_count": null,
   "metadata": {},
   "outputs": [],
   "source": [
    "# Train the model\n",
    "trainer = op.BasicTrainer(\n",
    "    model = TabularClassificationModel(X_train.shape[1], len(np.unique(y_train))),\n",
    "    loss_fn = torch.nn.CrossEntropyLoss(),\n",
    "    opt = torch.optim.Adam,\n",
    "    dataloader_train = dataloader_train,\n",
    "    dataloader_test = dataloader_test,\n",
    "    device= torch.device(\"mps\")\n",
    ")\n",
    "trainer.fit(10)"
   ]
  },
  {
   "cell_type": "code",
   "execution_count": null,
   "metadata": {},
   "outputs": [],
   "source": []
  }
 ],
 "metadata": {
  "kernelspec": {
   "display_name": ".venv",
   "language": "python",
   "name": "python3"
  },
  "language_info": {
   "codemirror_mode": {
    "name": "ipython",
    "version": 3
   },
   "file_extension": ".py",
   "mimetype": "text/x-python",
   "name": "python",
   "nbconvert_exporter": "python",
   "pygments_lexer": "ipython3",
   "version": "3.13.2"
  }
 },
 "nbformat": 4,
 "nbformat_minor": 2
}
