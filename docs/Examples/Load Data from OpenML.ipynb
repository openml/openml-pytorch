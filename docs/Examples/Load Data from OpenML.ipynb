{
 "cells": [
  {
   "cell_type": "code",
   "execution_count": 1,
   "metadata": {},
   "outputs": [
    {
     "name": "stderr",
     "output_type": "stream",
     "text": [
      "/Users/smukherjee/.pyenv/versions/openmlpytorch/lib/python3.11/site-packages/tqdm/auto.py:21: TqdmWarning: IProgress not found. Please update jupyter and ipywidgets. See https://ipywidgets.readthedocs.io/en/stable/user_install.html\n",
      "  from .autonotebook import tqdm as notebook_tqdm\n"
     ]
    }
   ],
   "source": [
    "# import libraries\n",
    "import openml\n",
    "import torch\n",
    "import numpy as np\n",
    "from sklearn.model_selection import train_test_split\n",
    "from typing import Any\n",
    "from tqdm import tqdm\n",
    "\n",
    "from openml_pytorch import GenericDataset, BasicTrainer"
   ]
  },
  {
   "cell_type": "code",
   "execution_count": 2,
   "metadata": {},
   "outputs": [],
   "source": [
    "# Get data and create dataloaders\n",
    "\n",
    "# Get dataset by ID\n",
    "dataset = openml.datasets.get_dataset(20)\n",
    "\n",
    "# Get the X, y data\n",
    "X, y, _, _ = dataset.get_data(target=dataset.default_target_attribute)\n",
    "X = X.to_numpy(dtype=np.float32)  # Ensure X is a NumPy array of float32\n",
    "y = y.to_numpy(dtype=np.int64)    # Ensure y is a NumPy array of int64 (for classification)\n",
    "\n",
    "# Train-test split\n",
    "X_train, X_test, y_train, y_test = train_test_split(X, y, random_state=1, stratify=y)\n",
    "\n",
    "# Dataloaders\n",
    "ds_train = GenericDataset(X_train, y_train)\n",
    "ds_test = GenericDataset(X_test, y_test)\n",
    "dataloader_train = torch.utils.data.DataLoader(ds_train, batch_size=64, shuffle=True)\n",
    "dataloader_test = torch.utils.data.DataLoader(ds_test, batch_size=64, shuffle=False)\n"
   ]
  },
  {
   "cell_type": "code",
   "execution_count": 3,
   "metadata": {},
   "outputs": [],
   "source": [
    "# Model Definition\n",
    "class TabularClassificationModel(torch.nn.Module):\n",
    "    def __init__(self, input_size, output_size):\n",
    "        super(TabularClassificationModel, self).__init__()\n",
    "        self.fc1 = torch.nn.Linear(input_size, 128)\n",
    "        self.fc2 = torch.nn.Linear(128, 64)\n",
    "        self.fc3 = torch.nn.Linear(64, output_size)\n",
    "        self.relu = torch.nn.ReLU()\n",
    "        self.softmax = torch.nn.Softmax(dim=1)\n",
    "\n",
    "    def forward(self, x):\n",
    "        x = self.fc1(x)\n",
    "        x = self.relu(x)\n",
    "        x = self.fc2(x)\n",
    "        x = self.relu(x)\n",
    "        x = self.fc3(x)\n",
    "        x = self.softmax(x)\n",
    "        return x\n"
   ]
  },
  {
   "cell_type": "code",
   "execution_count": 4,
   "metadata": {},
   "outputs": [
    {
     "name": "stderr",
     "output_type": "stream",
     "text": [
      "Epochs: 100%|██████████| 10/10 [00:00<00:00, 10.41it/s, Train loss=1.18, Test loss=10.9, Epoch=10]\n"
     ]
    }
   ],
   "source": [
    "# Train the model\n",
    "trainer = BasicTrainer(\n",
    "    model = TabularClassificationModel(X_train.shape[1], len(np.unique(y_train))),\n",
    "    loss_fn = torch.nn.CrossEntropyLoss(),\n",
    "    opt = torch.optim.Adam,\n",
    "    dataloader_train = dataloader_train,\n",
    "    dataloader_test = dataloader_test,\n",
    "    device= torch.device(\"mps\")\n",
    ")\n",
    "trainer.fit(10)"
   ]
  },
  {
   "cell_type": "code",
   "execution_count": null,
   "metadata": {},
   "outputs": [],
   "source": []
  }
 ],
 "metadata": {
  "kernelspec": {
   "display_name": "openmlpytorch",
   "language": "python",
   "name": "python3"
  },
  "language_info": {
   "codemirror_mode": {
    "name": "ipython",
    "version": 3
   },
   "file_extension": ".py",
   "mimetype": "text/x-python",
   "name": "python",
   "nbconvert_exporter": "python",
   "pygments_lexer": "ipython3",
   "version": "3.11.9"
  }
 },
 "nbformat": 4,
 "nbformat_minor": 2
}
