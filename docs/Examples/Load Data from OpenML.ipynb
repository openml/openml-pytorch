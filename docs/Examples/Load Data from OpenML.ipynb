{
 "cells": [
  {
   "cell_type": "code",
   "execution_count": 1,
   "metadata": {},
   "outputs": [
    {
     "name": "stdout",
     "output_type": "stream",
     "text": [
      "Collecting openml-pytorch==0.1.1\n",
      "  Downloading openml_pytorch-0.1.1-py3-none-any.whl.metadata (5.7 kB)\n",
      "Collecting matplotlib<4.0.0,>=3.9.2 (from openml-pytorch==0.1.1)\n",
      "  Downloading matplotlib-3.10.1-cp313-cp313-macosx_11_0_arm64.whl.metadata (11 kB)\n",
      "Collecting mkdocs-autorefs<2.0.0,>=1.2.0 (from openml-pytorch==0.1.1)\n",
      "  Downloading mkdocs_autorefs-1.4.1-py3-none-any.whl.metadata (13 kB)\n",
      "Collecting mkdocs-awesome-pages-plugin<3.0.0,>=2.9.3 (from openml-pytorch==0.1.1)\n",
      "  Downloading mkdocs_awesome_pages_plugin-2.10.1-py3-none-any.whl.metadata (13 kB)\n",
      "Collecting mkdocs-jupyter<0.26.0,>=0.25.0 (from openml-pytorch==0.1.1)\n",
      "  Downloading mkdocs_jupyter-0.25.1-py3-none-any.whl.metadata (9.4 kB)\n",
      "Collecting mkdocs-material<10.0.0,>=9.5.39 (from openml-pytorch==0.1.1)\n",
      "  Downloading mkdocs_material-9.6.8-py3-none-any.whl.metadata (19 kB)\n",
      "Collecting mkdocs-redirects<2.0.0,>=1.2.1 (from openml-pytorch==0.1.1)\n",
      "  Downloading mkdocs_redirects-1.2.2-py3-none-any.whl.metadata (5.2 kB)\n",
      "Collecting mkdocstrings<0.27.0,>=0.26.1 (from openml-pytorch==0.1.1)\n",
      "  Downloading mkdocstrings-0.26.2-py3-none-any.whl.metadata (8.3 kB)\n",
      "Collecting mkdocstrings-python<2.0.0,>=1.11.1 (from openml-pytorch==0.1.1)\n",
      "  Downloading mkdocstrings_python-1.16.5-py3-none-any.whl.metadata (5.6 kB)\n",
      "Collecting mknotebooks<0.9.0,>=0.8.0 (from openml-pytorch==0.1.1)\n",
      "  Downloading mknotebooks-0.8.0-py3-none-any.whl.metadata (4.3 kB)\n",
      "Collecting netron<9.0.0,>=8.1.3 (from openml-pytorch==0.1.1)\n",
      "  Downloading netron-8.2.0-py3-none-any.whl.metadata (1.5 kB)\n",
      "Collecting numpy<2.0.0 (from openml-pytorch==0.1.1)\n",
      "  Using cached numpy-1.26.4-cp313-cp313-macosx_15_0_arm64.whl\n",
      "Collecting onnx<2.0.0,>=1.16.2 (from openml-pytorch==0.1.1)\n",
      "  Downloading onnx-1.17.0.tar.gz (12.2 MB)\n",
      "\u001b[2K     \u001b[90m━━━━━━━━━━━━━━━━━━━━━━━━━━━━━━━━━━━━━━━━\u001b[0m \u001b[32m12.2/12.2 MB\u001b[0m \u001b[31m43.5 MB/s\u001b[0m eta \u001b[36m0:00:00\u001b[0m \u001b[36m0:00:01\u001b[0m\n",
      "\u001b[?25h  Installing build dependencies ... \u001b[?25ldone\n",
      "\u001b[?25h  Getting requirements to build wheel ... \u001b[?25ldone\n",
      "\u001b[?25h  Preparing metadata (pyproject.toml) ... \u001b[?25ldone\n",
      "\u001b[?25hCollecting openml<0.16.0,>=0.15.1 (from openml-pytorch==0.1.1)\n",
      "  Using cached openml-0.15.1-py3-none-any.whl.metadata (10 kB)\n",
      "Collecting tensorboard<3.0.0,>=2.17.1 (from openml-pytorch==0.1.1)\n",
      "  Downloading tensorboard-2.19.0-py3-none-any.whl.metadata (1.8 kB)\n",
      "Collecting torch<3.0.0,>=2.2.0 (from openml-pytorch==0.1.1)\n",
      "  Using cached torch-2.6.0-cp313-none-macosx_11_0_arm64.whl.metadata (28 kB)\n",
      "INFO: pip is looking at multiple versions of openml-pytorch to determine which version is compatible with other requirements. This could take a while.\n",
      "\u001b[31mERROR: Ignored the following yanked versions: 0.1.6, 0.1.7, 0.1.8, 0.1.9, 0.2.0, 0.2.1, 0.2.2, 0.2.2.post2, 0.2.2.post3\u001b[0m\u001b[31m\n",
      "\u001b[0m\u001b[31mERROR: Ignored the following versions that require a different python version: 1.21.2 Requires-Python >=3.7,<3.11; 1.21.3 Requires-Python >=3.7,<3.11; 1.21.4 Requires-Python >=3.7,<3.11; 1.21.5 Requires-Python >=3.7,<3.11; 1.21.6 Requires-Python >=3.7,<3.11; 1.26.0 Requires-Python <3.13,>=3.9; 1.26.1 Requires-Python <3.13,>=3.9\u001b[0m\u001b[31m\n",
      "\u001b[0m\u001b[31mERROR: Could not find a version that satisfies the requirement torchvision<0.18.0,>=0.17.0 (from openml-pytorch) (from versions: 0.21.0)\u001b[0m\u001b[31m\n",
      "\u001b[0m\n",
      "\u001b[1m[\u001b[0m\u001b[34;49mnotice\u001b[0m\u001b[1;39;49m]\u001b[0m\u001b[39;49m A new release of pip is available: \u001b[0m\u001b[31;49m24.3.1\u001b[0m\u001b[39;49m -> \u001b[0m\u001b[32;49m25.0.1\u001b[0m\n",
      "\u001b[1m[\u001b[0m\u001b[34;49mnotice\u001b[0m\u001b[1;39;49m]\u001b[0m\u001b[39;49m To update, run: \u001b[0m\u001b[32;49mpip install --upgrade pip\u001b[0m\n",
      "\u001b[31mERROR: No matching distribution found for torchvision<0.18.0,>=0.17.0\u001b[0m\u001b[31m\n",
      "\u001b[0m"
     ]
    }
   ],
   "source": [
    "!pip install openml-pytorch==0.1.1"
   ]
  },
  {
   "cell_type": "code",
   "execution_count": 2,
   "metadata": {},
   "outputs": [],
   "source": [
    "!pip freeze | grep openml-pytorch"
   ]
  },
  {
   "cell_type": "code",
   "execution_count": 1,
   "metadata": {},
   "outputs": [
    {
     "name": "stderr",
     "output_type": "stream",
     "text": [
      "/Users/smukherjee/.pyenv/versions/openmlpytorch/lib/python3.11/site-packages/tqdm/auto.py:21: TqdmWarning: IProgress not found. Please update jupyter and ipywidgets. See https://ipywidgets.readthedocs.io/en/stable/user_install.html\n",
      "  from .autonotebook import tqdm as notebook_tqdm\n"
     ]
    }
   ],
   "source": [
    "# import libraries\n",
    "import openml\n",
    "import torch\n",
    "import numpy as np\n",
    "from sklearn.model_selection import train_test_split\n",
    "from typing import Any\n",
    "from tqdm import tqdm\n",
    "\n",
    "from openml_pytorch import GenericDataset, BasicTrainer"
   ]
  },
  {
   "cell_type": "code",
   "execution_count": 2,
   "metadata": {},
   "outputs": [],
   "source": [
    "# Get data and create dataloaders\n",
    "\n",
    "# Get dataset by ID\n",
    "dataset = openml.datasets.get_dataset(20)\n",
    "\n",
    "# Get the X, y data\n",
    "X, y, _, _ = dataset.get_data(target=dataset.default_target_attribute)\n",
    "X = X.to_numpy(dtype=np.float32)  # Ensure X is a NumPy array of float32\n",
    "y = y.to_numpy(dtype=np.int64)    # Ensure y is a NumPy array of int64 (for classification)\n",
    "\n",
    "# Train-test split\n",
    "X_train, X_test, y_train, y_test = train_test_split(X, y, random_state=1, stratify=y)\n",
    "\n",
    "# Dataloaders\n",
    "ds_train = GenericDataset(X_train, y_train)\n",
    "ds_test = GenericDataset(X_test, y_test)\n",
    "dataloader_train = torch.utils.data.DataLoader(ds_train, batch_size=64, shuffle=True)\n",
    "dataloader_test = torch.utils.data.DataLoader(ds_test, batch_size=64, shuffle=False)\n"
   ]
  },
  {
   "cell_type": "code",
   "execution_count": 3,
   "metadata": {},
   "outputs": [],
   "source": [
    "# Model Definition\n",
    "class TabularClassificationModel(torch.nn.Module):\n",
    "    def __init__(self, input_size, output_size):\n",
    "        super(TabularClassificationModel, self).__init__()\n",
    "        self.fc1 = torch.nn.Linear(input_size, 128)\n",
    "        self.fc2 = torch.nn.Linear(128, 64)\n",
    "        self.fc3 = torch.nn.Linear(64, output_size)\n",
    "        self.relu = torch.nn.ReLU()\n",
    "        self.softmax = torch.nn.Softmax(dim=1)\n",
    "\n",
    "    def forward(self, x):\n",
    "        x = self.fc1(x)\n",
    "        x = self.relu(x)\n",
    "        x = self.fc2(x)\n",
    "        x = self.relu(x)\n",
    "        x = self.fc3(x)\n",
    "        x = self.softmax(x)\n",
    "        return x\n"
   ]
  },
  {
   "cell_type": "code",
   "execution_count": 4,
   "metadata": {},
   "outputs": [
    {
     "name": "stderr",
     "output_type": "stream",
     "text": [
      "Epochs: 100%|██████████| 10/10 [00:00<00:00, 10.41it/s, Train loss=1.18, Test loss=10.9, Epoch=10]\n"
     ]
    }
   ],
   "source": [
    "# Train the model\n",
    "trainer = BasicTrainer(\n",
    "    model = TabularClassificationModel(X_train.shape[1], len(np.unique(y_train))),\n",
    "    loss_fn = torch.nn.CrossEntropyLoss(),\n",
    "    opt = torch.optim.Adam,\n",
    "    dataloader_train = dataloader_train,\n",
    "    dataloader_test = dataloader_test,\n",
    "    device= torch.device(\"mps\")\n",
    ")\n",
    "trainer.fit(10)"
   ]
  },
  {
   "cell_type": "code",
   "execution_count": null,
   "metadata": {},
   "outputs": [],
   "source": []
  }
 ],
 "metadata": {
  "kernelspec": {
   "display_name": "general",
   "language": "python",
   "name": "python3"
  },
  "language_info": {
   "codemirror_mode": {
    "name": "ipython",
    "version": 3
   },
   "file_extension": ".py",
   "mimetype": "text/x-python",
   "name": "python",
   "nbconvert_exporter": "python",
   "pygments_lexer": "ipython3",
   "version": "3.13.1"
  }
 },
 "nbformat": 4,
 "nbformat_minor": 2
}
